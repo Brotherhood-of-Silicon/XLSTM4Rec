{
 "cells": [
  {
   "cell_type": "code",
   "execution_count": null,
   "metadata": {},
   "outputs": [],
   "source": [
    "!git clone https://github.com/Brotherhood-of-Silicon/XLSTM4Rec"
   ]
  },
  {
   "cell_type": "code",
   "execution_count": null,
   "metadata": {},
   "outputs": [],
   "source": [
    "cd XLSTM4Rec/"
   ]
  },
  {
   "cell_type": "code",
   "execution_count": null,
   "metadata": {},
   "outputs": [],
   "source": [
    "!pip install -r requirements.txt"
   ]
  },
  {
   "cell_type": "code",
   "execution_count": null,
   "metadata": {},
   "outputs": [],
   "source": [
    "cd src/"
   ]
  },
  {
   "cell_type": "code",
   "execution_count": null,
   "metadata": {
    "metadata": {}
   },
   "outputs": [],
   "source": [
    "import sys\n",
    "import logging\n",
    "from logging import getLogger\n",
    "from recbole.utils import init_logger, init_seed\n",
    "from recbole.trainer import Trainer\n",
    "from recbole.config import Config\n",
    "from recbole.data import create_dataset, data_preparation\n",
    "from recbole.data.transform import construct_transform\n",
    "from recbole.utils import (\n",
    "    init_logger,\n",
    "    get_flops,\n",
    "    get_environment,\n",
    "    set_color,\n",
    ")\n",
    "from XLSTM4Rec import xLSTM4Rec\n",
    "import os"
   ]
  },
  {
   "cell_type": "code",
   "execution_count": null,
   "metadata": {},
   "outputs": [],
   "source": [
    "# Configuration\n",
    "config_path=os.path.relpath('config.yaml')\n",
    "config = Config(model=xLSTM4Rec, config_file_list=[config_path])\n",
    "init_seed(config['seed'], config['reproducibility'])\n",
    "    \n",
    "# Logger initialization\n",
    "init_logger(config)\n",
    "logger = getLogger()\n",
    "logger.info(sys.argv)\n",
    "logger.info(config)\n",
    "\n",
    "# Dataset creation\n",
    "dataset = create_dataset(config)\n",
    "logger.info(dataset)\n",
    "\n",
    "# Dataset splitting\n",
    "train_data, valid_data, test_data = data_preparation(config, dataset)\n",
    "\n",
    "# Model loading and initialization\n",
    "init_seed(config[\"seed\"] + config[\"local_rank\"], config[\"reproducibility\"])"
   ]
  },
  {
   "cell_type": "code",
   "execution_count": null,
   "metadata": {},
   "outputs": [],
   "source": [
    "\n",
    "model = xLSTM4Rec(config, train_data.dataset).to(config['device'])\n",
    "logger.info(model)\n",
    "\n",
    "# FLOPs calculation\n",
    "transform = construct_transform(config)\n",
    "flops = get_flops(model, dataset, config[\"device\"], logger, transform)\n",
    "logger.info(set_color(\"FLOPs\", \"blue\") + f\": {flops}\")\n",
    "\n",
    "# FLOPs calculation\n",
    "transform = construct_transform(config)\n",
    "flops = get_flops(model, dataset, config[\"device\"], logger, transform)\n",
    "logger.info(set_color(\"FLOPs\", \"blue\") + f\": {flops}\")"
   ]
  },
  {
   "cell_type": "code",
   "execution_count": null,
   "metadata": {},
   "outputs": [],
   "source": [
    "\n",
    "# Trainer initialization\n",
    "trainer = Trainer(config, model)\n",
    "\n",
    "# Model training\n",
    "best_valid_score, best_valid_result = trainer.fit(\n",
    "    train_data, valid_data, show_progress=config[\"show_progress\"]\n",
    ")\n",
    "\n",
    "# Model evaluation\n",
    "test_result = trainer.evaluate(\n",
    "    test_data, show_progress=config[\"show_progress\"]\n",
    ")\n",
    "    \n",
    "# Environment logging\n",
    "environment_tb = get_environment(config)\n",
    "logger.info(\n",
    "    \"The running environment of this training is as follows:\\n\"\n",
    "    + environment_tb.draw()\n",
    ")\n",
    "\n",
    "logger.info(set_color(\"best valid \", \"yellow\") + f\": {best_valid_result}\")\n",
    "logger.info(set_color(\"test result\", \"yellow\") + f\": {test_result}\")"
   ]
  }
 ],
 "metadata": {
  "kernelspec": {
   "display_name": "Python 3",
   "language": "python",
   "name": "python3"
  },
  "language_info": {
   "codemirror_mode": {
    "name": "ipython",
    "version": 3
   },
   "file_extension": ".py",
   "mimetype": "text/x-python",
   "name": "python",
   "nbconvert_exporter": "python",
   "pygments_lexer": "ipython3",
   "version": "3.12.2"
  }
 },
 "nbformat": 4,
 "nbformat_minor": 2
}
